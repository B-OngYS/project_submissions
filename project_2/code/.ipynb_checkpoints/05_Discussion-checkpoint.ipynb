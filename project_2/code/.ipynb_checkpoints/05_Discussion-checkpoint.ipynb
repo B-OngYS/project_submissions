{
 "cells": [
  {
   "cell_type": "markdown",
   "id": "215d1106",
   "metadata": {},
   "source": [
    "# Discussion on the use of models"
   ]
  },
  {
   "cell_type": "markdown",
   "id": "3c05fe17",
   "metadata": {},
   "source": [
    "## Price Estimator"
   ]
  },
  {
   "cell_type": "markdown",
   "id": "c319f3f9",
   "metadata": {},
   "source": [
    "|RMSE train/test|Linear Regression|Lasso|Ridge|\n",
    "|:--|---|---|---|\n",
    "|Model 1 (floor area, planning area, block type)|80,500/80,300|80,500/80,300|80,500/80,300|\n",
    "|Model 2 (full flat type, planning area, block type)|65,500/65,200|65,800/65,600|65,500/65,200|\n",
    "|Model 3 (area cost, flat type with interactions with flat model)|69,100/69,400|69,100/69,400|69,100/69,400|"
   ]
  },
  {
   "cell_type": "markdown",
   "id": "036e2c58",
   "metadata": {},
   "source": [
    "From our models, we can tell our property agents that our estimated prices will give agents room to either push the prices up or down by about 66k which is useful for more expensive, high stakes transactions.\n",
    "\n",
    "Our business will mainly use Model 2 to produce our estimated prices."
   ]
  },
  {
   "cell_type": "markdown",
   "id": "fa3e2047",
   "metadata": {},
   "source": [
    "## Feature Selection"
   ]
  },
  {
   "cell_type": "markdown",
   "id": "b8ab1bc4",
   "metadata": {},
   "source": [
    "From our EDA, we can see that many of the features that we were given can be mainly explained through\n",
    "\n",
    "1. Type of flat and model\n",
    "2. Planning areas"
   ]
  },
  {
   "cell_type": "markdown",
   "id": "5a9db661",
   "metadata": {},
   "source": [
    "For example, school names corresponds to a particular area so planning area is more of a factor as compared to school name.\n",
    "\n",
    "The flat type and model explains more than floor area as we can see from our model RMSE scores."
   ]
  },
  {
   "cell_type": "markdown",
   "id": "c4b32615",
   "metadata": {},
   "source": [
    "Using our second model, we'll be able to suggest to our clients the extent of how price changes given a flat type and area.\n",
    "\n",
    "For instance, if our client enquires about a 5 room flat, we can tell them how much its price is affect by the area. Moreover, the number of hawker centres matter for buyers of 5 room flats. So they should add that into their adverts."
   ]
  },
  {
   "cell_type": "markdown",
   "id": "88cf6fd5",
   "metadata": {},
   "source": [
    "## Model Improvements"
   ]
  },
  {
   "cell_type": "markdown",
   "id": "23498c9a",
   "metadata": {},
   "source": [
    "Based on the data we have recieved, we found that many features do not matter.\n",
    "\n",
    "But upon looking at listings in PropertyGuru and 99.co, we see agents advertising about 3 other features like\n",
    "\n",
    "- Renovated\n",
    "- Move in condition\n",
    "- Distance from expressway\n",
    "\n",
    "We can certainly use more resources to come up with better models. And also come up with the answer of weather these other features should be featured in their adverts."
   ]
  },
  {
   "cell_type": "code",
   "execution_count": null,
   "id": "f5aeed8f",
   "metadata": {},
   "outputs": [],
   "source": []
  }
 ],
 "metadata": {
  "kernelspec": {
   "display_name": "Python 3 (ipykernel)",
   "language": "python",
   "name": "python3"
  },
  "language_info": {
   "codemirror_mode": {
    "name": "ipython",
    "version": 3
   },
   "file_extension": ".py",
   "mimetype": "text/x-python",
   "name": "python",
   "nbconvert_exporter": "python",
   "pygments_lexer": "ipython3",
   "version": "3.9.13"
  }
 },
 "nbformat": 4,
 "nbformat_minor": 5
}
