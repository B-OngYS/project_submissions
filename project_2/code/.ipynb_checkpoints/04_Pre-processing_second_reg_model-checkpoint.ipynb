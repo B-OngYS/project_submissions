{
 "cells": [
  {
   "cell_type": "markdown",
   "id": "5870fe9a",
   "metadata": {},
   "source": [
    "# Import Libraries"
   ]
  },
  {
   "cell_type": "code",
   "execution_count": null,
   "id": "fc1a3505",
   "metadata": {},
   "outputs": [],
   "source": [
    "import pandas as pd\n",
    "import numpy as np\n",
    "import seaborn as sns\n",
    "import matplotlib.pyplot as plt\n",
    "\n",
    "from sklearn.model_selection import train_test_split, cross_val_score\n",
    "from sklearn.preprocessing import StandardScaler\n",
    "from sklearn.linear_model import LinearRegression, Lasso, LassoCV, Ridge, RidgeCV\n",
    "from sklearn.metrics import r2_score, mean_squared_error"
   ]
  },
  {
   "cell_type": "markdown",
   "id": "98381089",
   "metadata": {},
   "source": [
    "# Load Data and Data Cleaning"
   ]
  },
  {
   "cell_type": "code",
   "execution_count": null,
   "id": "d5dc1664",
   "metadata": {
    "scrolled": false
   },
   "outputs": [],
   "source": [
    "df = pd.read_csv('..\\datasets\\cleaned_df_2.csv').drop(columns='Unnamed: 0')"
   ]
  },
  {
   "cell_type": "code",
   "execution_count": null,
   "id": "986f5008",
   "metadata": {},
   "outputs": [],
   "source": [
    "df.head()"
   ]
  },
  {
   "cell_type": "markdown",
   "id": "9c0b61cb",
   "metadata": {},
   "source": [
    "The data has been clean in the EDA in 03_EDA_Part2"
   ]
  },
  {
   "cell_type": "markdown",
   "id": "5da97f8f",
   "metadata": {},
   "source": [
    "# Model Prep: Creating features matrix and target vector"
   ]
  },
  {
   "cell_type": "markdown",
   "id": "dd6d9f15",
   "metadata": {},
   "source": [
    "## Preprocessing"
   ]
  },
  {
   "cell_type": "markdown",
   "id": "f867cf16",
   "metadata": {},
   "source": [
    "Our models will include the following features\n",
    "\n",
    "`area_cost`\n",
    "\n",
    "`flat_type_1 ROOM`\n",
    "\n",
    "`flat_type_1 ROOM` * (`Tranc_YearMonth`), \n",
    "\n",
    "`flat_type_2 ROOM`\n",
    "\n",
    "`flat_type_2 ROOM` * (`flat_model_DBSS`)\n",
    "\n",
    "`flat_type_3 ROOM` (Which we will drop to avoid collinearity)\n",
    "\n",
    "`flat_type_3 ROOM` * (`flat_model_DBSS`, `flat_model_Premium Apartment`, `flat_model_Terrace`)\n",
    "\n",
    "`flat_type_4 ROOM`\n",
    "\n",
    "`flat_type_4 ROOM` * (`Hawker_Within_2km`, `flat_model_Model A2`, `flat_model_Simplified`, `flat_model_Adjoined flat`, `flat_model_DBSS`, `flat_model_Terrace`,`flat_model_Premium Apartment Loft`, `flat_model_Type S1`)\n",
    "\n",
    "`flat_type_5 ROOM`\n",
    "\n",
    "`flat_type_5 ROOM` * (`Hawker_Within_2km`, `flat_model_Type S2`, `flat_model_Premium Apartment Loft`, `flat_model_DBSS`, `flat_model_Improved-Maisonette`, `flat_model_Standard`, `flat_model_Adjoined flat`)\n",
    "\n",
    "`flat_type_EXECUTIVE`\n",
    "\n",
    "`flat_type_EXECUTIVE` * (`Hawker_Within_2km`, `flat_model_Premium Maisonette`, `flat_model_Adjoined flat`)\n",
    "\n",
    "`flat_type_MULTI-GENERATION`\n",
    "\n",
    "Flat types will be relative to 3 ROOM flats that are not DBSS, Premium or Terrace houses.\n",
    "Planning Area will be relative to afforable areas."
   ]
  },
  {
   "cell_type": "code",
   "execution_count": null,
   "id": "08778574",
   "metadata": {},
   "outputs": [],
   "source": [
    "X=df[['area_cost','flat_type']]\n",
    "X=pd.get_dummies(columns=['area_cost','flat_type'],data=X)"
   ]
  },
  {
   "cell_type": "code",
   "execution_count": null,
   "id": "3385337b",
   "metadata": {},
   "outputs": [],
   "source": [
    "flat_dummies = pd.get_dummies(columns=['flat_type','flat_model'], data=df)"
   ]
  },
  {
   "cell_type": "code",
   "execution_count": null,
   "id": "fba9ccc5",
   "metadata": {},
   "outputs": [],
   "source": [
    "interaction_terms_list = [('flat_type_1 ROOM','Tranc_YearMonth_ord'), \n",
    "                          ('flat_type_2 ROOM','flat_model_DBSS'),\n",
    "                          ('flat_type_3 ROOM','flat_model_DBSS'),\n",
    "                          ('flat_type_3 ROOM','flat_model_Premium Apartment'),\n",
    "                          ('flat_type_3 ROOM','flat_model_Terrace'),\n",
    "                          ('flat_type_4 ROOM','Hawker_Within_2km'),\n",
    "                          ('flat_type_4 ROOM','flat_model_Model A2'),\n",
    "                          ('flat_type_4 ROOM','flat_model_Simplified'),\n",
    "                          ('flat_type_4 ROOM','flat_model_Adjoined flat'),\n",
    "                          ('flat_type_4 ROOM','flat_model_DBSS'),\n",
    "                          ('flat_type_4 ROOM','flat_model_Terrace'),\n",
    "                          ('flat_type_4 ROOM','flat_model_Premium Apartment Loft'),\n",
    "                          ('flat_type_4 ROOM','flat_model_Type S1'),\n",
    "                          ('flat_type_5 ROOM','Hawker_Within_2km'),\n",
    "                          ('flat_type_5 ROOM','flat_model_Type S2'),\n",
    "                          ('flat_type_5 ROOM','flat_model_Premium Apartment Loft'),\n",
    "                          ('flat_type_5 ROOM','flat_model_DBSS'),\n",
    "                          ('flat_type_5 ROOM','flat_model_Improved-Maisonette'),\n",
    "                          ('flat_type_5 ROOM','flat_model_Standard'),\n",
    "                          ('flat_type_5 ROOM','flat_model_Adjoined flat'),\n",
    "                          ('flat_type_EXECUTIVE','Hawker_Within_2km'),\n",
    "                          ('flat_type_EXECUTIVE','flat_model_Premium Maisonette'),\n",
    "                          ('flat_type_EXECUTIVE','flat_model_Adjoined flat')]"
   ]
  },
  {
   "cell_type": "code",
   "execution_count": null,
   "id": "9ae80f52",
   "metadata": {},
   "outputs": [],
   "source": [
    "for terms in interaction_terms_list:\n",
    "    X[f\"{terms[0]}*{terms[1]}\"]= flat_dummies[terms[0]]*flat_dummies[terms[1]]"
   ]
  },
  {
   "cell_type": "code",
   "execution_count": null,
   "id": "817dd054",
   "metadata": {},
   "outputs": [],
   "source": [
    "#dropping the 3 ROOM\n",
    "X=X.drop(columns=['flat_type_1 ROOM','flat_type_3 ROOM','area_cost_affordable'])"
   ]
  },
  {
   "cell_type": "code",
   "execution_count": null,
   "id": "4822600d",
   "metadata": {},
   "outputs": [],
   "source": [
    "X"
   ]
  },
  {
   "cell_type": "code",
   "execution_count": null,
   "id": "25607d8e",
   "metadata": {},
   "outputs": [],
   "source": [
    "y = df['resale_price']*100_000"
   ]
  },
  {
   "cell_type": "markdown",
   "id": "9172ba59",
   "metadata": {},
   "source": [
    "# Model Prep: Train/Test split"
   ]
  },
  {
   "cell_type": "markdown",
   "id": "4f87b893",
   "metadata": {},
   "source": [
    "Since our training set is large, we will use 0.8 of the data as our training size."
   ]
  },
  {
   "cell_type": "code",
   "execution_count": null,
   "id": "9f1c202c",
   "metadata": {},
   "outputs": [],
   "source": [
    "X_train, X_test, y_train, y_test = train_test_split(X,y, random_state = 42, train_size=.8)"
   ]
  },
  {
   "cell_type": "markdown",
   "id": "67bcc350",
   "metadata": {},
   "source": [
    "We will use the same random_state to make both models comparable.\n",
    "\n",
    "We will also standardize `floor_area_sqm` for lasso and ridge in X_1."
   ]
  },
  {
   "cell_type": "code",
   "execution_count": null,
   "id": "5f1d2dbb",
   "metadata": {},
   "outputs": [],
   "source": [
    "ss = StandardScaler()\n",
    "ss.fit(X_train)\n",
    "X_train = ss.transform(X_train)\n",
    "X_test = ss.transform(X_test)"
   ]
  },
  {
   "cell_type": "markdown",
   "id": "d6b36b73",
   "metadata": {},
   "source": [
    "# Instantiate models"
   ]
  },
  {
   "cell_type": "code",
   "execution_count": null,
   "id": "1807cc84",
   "metadata": {},
   "outputs": [],
   "source": [
    "lr = LinearRegression()"
   ]
  },
  {
   "cell_type": "code",
   "execution_count": null,
   "id": "2949244e",
   "metadata": {},
   "outputs": [],
   "source": [
    "optimal_lasso = LassoCV(n_alphas = 500,max_iter=2000)\n",
    "\n",
    "optimal_lasso.fit(X_train,y_train);"
   ]
  },
  {
   "cell_type": "code",
   "execution_count": null,
   "id": "236b11b6",
   "metadata": {},
   "outputs": [],
   "source": [
    "optimal_ridge = RidgeCV(alphas = np.linspace(.1, 10, 100))\n",
    "\n",
    "optimal_ridge.fit(X_train,y_train);"
   ]
  },
  {
   "cell_type": "code",
   "execution_count": null,
   "id": "8881c625",
   "metadata": {
    "scrolled": false
   },
   "outputs": [],
   "source": [
    "null_model = np.full(shape=len(y), fill_value=y.mean())"
   ]
  },
  {
   "cell_type": "markdown",
   "id": "c2e7825a",
   "metadata": {},
   "source": [
    "Our null model will be the mean resale price."
   ]
  },
  {
   "cell_type": "markdown",
   "id": "dffb8dfa",
   "metadata": {},
   "source": [
    "# X Cross Validation"
   ]
  },
  {
   "cell_type": "markdown",
   "id": "3c778e8a",
   "metadata": {},
   "source": [
    "We'll use RMSE (i.e. closer to 0, better fit)"
   ]
  },
  {
   "cell_type": "code",
   "execution_count": null,
   "id": "c0d17656",
   "metadata": {},
   "outputs": [],
   "source": [
    "# Null model\n",
    "np.sqrt(mean_squared_error(y,null_model))"
   ]
  },
  {
   "cell_type": "code",
   "execution_count": null,
   "id": "b0c27cbe",
   "metadata": {
    "scrolled": true
   },
   "outputs": [],
   "source": [
    "lr_scores_rmse = -cross_val_score(lr,X_train,y_train, scoring = 'neg_root_mean_squared_error')\n",
    "lr_scores_rmse.mean()"
   ]
  },
  {
   "cell_type": "code",
   "execution_count": null,
   "id": "4b4b10b8",
   "metadata": {},
   "outputs": [],
   "source": [
    "lasso_scores_rmse = -cross_val_score(optimal_lasso,X_train,y_train, scoring = 'neg_root_mean_squared_error')\n",
    "lasso_scores_rmse.mean()"
   ]
  },
  {
   "cell_type": "code",
   "execution_count": null,
   "id": "9c831214",
   "metadata": {},
   "outputs": [],
   "source": [
    "ridge_scores_rmse = -cross_val_score(optimal_ridge,X_train,y_train, scoring = 'neg_root_mean_squared_error')\n",
    "ridge_scores_rmse.mean()"
   ]
  },
  {
   "cell_type": "markdown",
   "id": "799e5343",
   "metadata": {},
   "source": [
    "All our regression models for X features turned out really well relative to the null model.\n",
    "\n",
    "We will now see how it performs for overfitting."
   ]
  },
  {
   "cell_type": "code",
   "execution_count": null,
   "id": "106a2397",
   "metadata": {},
   "outputs": [],
   "source": [
    "lasso = Lasso(alpha=optimal_lasso.alpha_)\n",
    "\n",
    "lasso.fit(X_train,y_train)"
   ]
  },
  {
   "cell_type": "code",
   "execution_count": null,
   "id": "508a6d90",
   "metadata": {
    "scrolled": true
   },
   "outputs": [],
   "source": [
    "ridge = Ridge(alpha=optimal_ridge.alpha_)\n",
    "\n",
    "ridge.fit(X_train,y_train)"
   ]
  },
  {
   "cell_type": "code",
   "execution_count": null,
   "id": "b1e1910d",
   "metadata": {},
   "outputs": [],
   "source": [
    "lasso_train_rmse = -cross_val_score(ridge,X_train,y_train, scoring = 'neg_root_mean_squared_error')\n",
    "lasso_test_rmse = -cross_val_score(ridge,X_test,y_test, scoring = 'neg_root_mean_squared_error')\n",
    "\n",
    "print(f'Train RMSE = {ridge_train_rmse.mean()}, Test RMSE = {ridge_test_rmse.mean()}')"
   ]
  },
  {
   "cell_type": "code",
   "execution_count": null,
   "id": "83d9b5b8",
   "metadata": {},
   "outputs": [],
   "source": [
    "ridge_train_rmse = -cross_val_score(ridge,X_train,y_train, scoring = 'neg_root_mean_squared_error')\n",
    "ridge_test_rmse = -cross_val_score(ridge,X_test,y_test, scoring = 'neg_root_mean_squared_error')\n",
    "\n",
    "print(f'Train RMSE = {ridge_train_rmse.mean()}, Test RMSE = {ridge_test_rmse.mean()}')"
   ]
  },
  {
   "cell_type": "markdown",
   "id": "5ab14847",
   "metadata": {},
   "source": [
    "Let's check out how linear regression compares to lasso and ridge."
   ]
  },
  {
   "cell_type": "code",
   "execution_count": null,
   "id": "8796fc6d",
   "metadata": {
    "scrolled": true
   },
   "outputs": [],
   "source": [
    "lr_train_rmse = -cross_val_score(lr,X_train,y_train, scoring = 'neg_root_mean_squared_error')\n",
    "lr_test_rmse = -cross_val_score(lr,X_test,y_test, scoring = 'neg_root_mean_squared_error')\n",
    "\n",
    "print(f'Train RMSE = {lr_train_rmse.mean()}, Test RMSE = {lr_test_rmse.mean()}')"
   ]
  },
  {
   "cell_type": "markdown",
   "id": "4003d367",
   "metadata": {},
   "source": [
    "# X coef distribution"
   ]
  },
  {
   "cell_type": "code",
   "execution_count": null,
   "id": "3b24cdc7",
   "metadata": {},
   "outputs": [],
   "source": [
    "lr.fit(X_train,y_train)"
   ]
  },
  {
   "cell_type": "code",
   "execution_count": null,
   "id": "308757e9",
   "metadata": {},
   "outputs": [],
   "source": [
    "lr.intercept_"
   ]
  },
  {
   "cell_type": "code",
   "execution_count": null,
   "id": "e4dfcabf",
   "metadata": {
    "scrolled": true
   },
   "outputs": [],
   "source": [
    "pd.Series(lr.coef_, index = X.columns)"
   ]
  },
  {
   "cell_type": "code",
   "execution_count": null,
   "id": "437c0826",
   "metadata": {},
   "outputs": [],
   "source": [
    "ridge.intercept_"
   ]
  },
  {
   "cell_type": "code",
   "execution_count": null,
   "id": "884165dd",
   "metadata": {},
   "outputs": [],
   "source": [
    "pd.Series(lr.coef_, index = X.columns)"
   ]
  },
  {
   "cell_type": "code",
   "execution_count": null,
   "id": "7e85f3a3",
   "metadata": {
    "scrolled": true
   },
   "outputs": [],
   "source": [
    "(pd.Series(ridge.coef_, index = X.columns)\n",
    " .sort_values(ascending=True)[:10]\n",
    " .plot(kind = 'barh', figsize=(15,7)))\n",
    "plt.show()"
   ]
  },
  {
   "cell_type": "code",
   "execution_count": null,
   "id": "110bacbd",
   "metadata": {},
   "outputs": [],
   "source": [
    "(pd.Series(ridge.coef_, index = X.columns)\n",
    " .sort_values(ascending=False)[:10]\n",
    " .plot(kind = 'barh', figsize=(15,7)))\n",
    "plt.show()"
   ]
  },
  {
   "cell_type": "code",
   "execution_count": null,
   "id": "39b89b04",
   "metadata": {},
   "outputs": [],
   "source": [
    "(pd.Series(lasso.coef_, index = X.columns)\n",
    " .sort_values(ascending=False)[:10]\n",
    " .plot(kind = 'barh', figsize=(15,7)))\n",
    "plt.show()"
   ]
  },
  {
   "cell_type": "code",
   "execution_count": null,
   "id": "f955a407",
   "metadata": {},
   "outputs": [],
   "source": [
    "(pd.Series(lasso.coef_, index = X.columns)\n",
    " .sort_values(ascending=True)[:10]\n",
    " .plot(kind = 'barh', figsize=(15,7)))\n",
    "plt.show()"
   ]
  },
  {
   "cell_type": "code",
   "execution_count": null,
   "id": "f37b68d2",
   "metadata": {},
   "outputs": [],
   "source": [
    "pred = ridge.predict(X_test)"
   ]
  },
  {
   "cell_type": "code",
   "execution_count": null,
   "id": "15ca6487",
   "metadata": {},
   "outputs": [],
   "source": [
    "residual = y_test - pred"
   ]
  },
  {
   "cell_type": "code",
   "execution_count": null,
   "id": "0a00d88f",
   "metadata": {},
   "outputs": [],
   "source": [
    "plt.hist(residual,bins=100)\n",
    "plt.show()"
   ]
  },
  {
   "cell_type": "code",
   "execution_count": null,
   "id": "5b9b0acd",
   "metadata": {
    "scrolled": false
   },
   "outputs": [],
   "source": [
    "plt.scatter(x=pred, y=residual)\n",
    "plt.axhline(0,color='orange')\n",
    "plt.show()"
   ]
  },
  {
   "cell_type": "markdown",
   "id": "32e9a6fd",
   "metadata": {},
   "source": [
    "# Second Kaggle Submission"
   ]
  },
  {
   "cell_type": "code",
   "execution_count": null,
   "id": "80786d5a",
   "metadata": {},
   "outputs": [],
   "source": [
    "df_validation = pd.read_csv(r'..\\datasets\\test.csv')"
   ]
  },
  {
   "cell_type": "code",
   "execution_count": null,
   "id": "dbadb2ce",
   "metadata": {},
   "outputs": [],
   "source": [
    "df_validation.columns[41]"
   ]
  },
  {
   "cell_type": "markdown",
   "id": "246cd51d",
   "metadata": {},
   "source": [
    "Since we're not using postal, we can skip this step."
   ]
  },
  {
   "cell_type": "code",
   "execution_count": null,
   "id": "7a634dbd",
   "metadata": {},
   "outputs": [],
   "source": [
    "X_train = df[['full_flat_type', 'planning_area', 'block_type']] #We'll be using the full training dataset.\n",
    "X_validation = df_validation[['full_flat_type', 'planning_area', 'block_type']]\n",
    "\n",
    "y_train = df['resale_price']"
   ]
  },
  {
   "cell_type": "code",
   "execution_count": null,
   "id": "fa55dc50",
   "metadata": {},
   "outputs": [],
   "source": [
    "for feature in ['full_flat_type', 'planning_area', 'block_type']:\n",
    "    X_train = pd.get_dummies(columns=[feature], drop_first = True, data=X_train)\n",
    "\n",
    "for feature in ['full_flat_type', 'planning_area', 'block_type']:\n",
    "    X_validation = pd.get_dummies(columns=[feature], drop_first = True, data=X_validation)"
   ]
  },
  {
   "cell_type": "code",
   "execution_count": null,
   "id": "cbe4f75b",
   "metadata": {},
   "outputs": [],
   "source": [
    "X_train.shape"
   ]
  },
  {
   "cell_type": "code",
   "execution_count": null,
   "id": "e1b51046",
   "metadata": {},
   "outputs": [],
   "source": [
    "X_validation.shape"
   ]
  },
  {
   "cell_type": "code",
   "execution_count": null,
   "id": "1518f81e",
   "metadata": {},
   "outputs": [],
   "source": [
    "missing_columns = X_train.columns.difference(X_validation.columns).tolist()"
   ]
  },
  {
   "cell_type": "markdown",
   "id": "fbf78c30",
   "metadata": {},
   "source": [
    "We will add those columns in to X_validation"
   ]
  },
  {
   "cell_type": "code",
   "execution_count": null,
   "id": "02414d32",
   "metadata": {},
   "outputs": [],
   "source": [
    "missing_features = []\n",
    "for feature in missing_columns:\n",
    "    missing_features.append((X_train.columns.get_loc(feature),feature))"
   ]
  },
  {
   "cell_type": "code",
   "execution_count": null,
   "id": "435e9846",
   "metadata": {},
   "outputs": [],
   "source": [
    "missing_features"
   ]
  },
  {
   "cell_type": "code",
   "execution_count": null,
   "id": "7fcd4124",
   "metadata": {},
   "outputs": [],
   "source": [
    "for feature in missing_features:\n",
    "    X_validation.insert(feature[0], feature[1],0)"
   ]
  },
  {
   "cell_type": "code",
   "execution_count": null,
   "id": "d547fb48",
   "metadata": {},
   "outputs": [],
   "source": [
    "X_validation.shape"
   ]
  },
  {
   "cell_type": "code",
   "execution_count": null,
   "id": "e4c338c6",
   "metadata": {},
   "outputs": [],
   "source": [
    "lr = LinearRegression()"
   ]
  },
  {
   "cell_type": "code",
   "execution_count": null,
   "id": "cfc5e8e1",
   "metadata": {},
   "outputs": [],
   "source": [
    "lr.fit(X_train, y_train)"
   ]
  },
  {
   "cell_type": "code",
   "execution_count": null,
   "id": "3bf2ce1b",
   "metadata": {},
   "outputs": [],
   "source": [
    "lr.predict(X_validation)"
   ]
  },
  {
   "cell_type": "code",
   "execution_count": null,
   "id": "bc88bcb9",
   "metadata": {},
   "outputs": [],
   "source": [
    "final_predicts = pd.DataFrame(data=[df_validation['id'],np.transpose(lr.predict(X_validation))], columns=['Id','Predicted'])"
   ]
  },
  {
   "cell_type": "code",
   "execution_count": null,
   "id": "57c39305",
   "metadata": {},
   "outputs": [],
   "source": [
    "final_predicts = pd.DataFrame({'Id':df_validation['id'],'Predicted':lr.predict(X_validation)*100_000})"
   ]
  },
  {
   "cell_type": "code",
   "execution_count": null,
   "id": "9d63c7d7",
   "metadata": {},
   "outputs": [],
   "source": [
    "df_validation['id']"
   ]
  },
  {
   "cell_type": "code",
   "execution_count": null,
   "id": "f07946f2",
   "metadata": {},
   "outputs": [],
   "source": [
    "final_predicts.to_csv(r'..\\datasets\\predictions.csv')"
   ]
  }
 ],
 "metadata": {
  "kernelspec": {
   "display_name": "Python 3 (ipykernel)",
   "language": "python",
   "name": "python3"
  },
  "language_info": {
   "codemirror_mode": {
    "name": "ipython",
    "version": 3
   },
   "file_extension": ".py",
   "mimetype": "text/x-python",
   "name": "python",
   "nbconvert_exporter": "python",
   "pygments_lexer": "ipython3",
   "version": "3.9.13"
  }
 },
 "nbformat": 4,
 "nbformat_minor": 5
}
