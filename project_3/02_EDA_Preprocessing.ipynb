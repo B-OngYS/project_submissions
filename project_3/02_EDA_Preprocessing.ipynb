{
 "cells": [
  {
   "cell_type": "markdown",
   "id": "77896666",
   "metadata": {},
   "source": [
    "# EDA"
   ]
  },
  {
   "cell_type": "markdown",
   "id": "efce920f",
   "metadata": {},
   "source": [
    "# Problem Statement"
   ]
  },
  {
   "cell_type": "markdown",
   "id": "afb365eb",
   "metadata": {},
   "source": [
    "BreathEasy is a CPAP reseller and would like to advertise to two groups.\n",
    "1. Group 1 are people who use CPAP machines\n",
    "2. Group 2 are people who do not use CPAP machines but are concerned about sleep disorders like sleep apnea and snoring\n",
    "\n",
    "Each group will have a different advertisement presented to them.\n",
    "\n",
    "They want to have a model to predict which advertisement to show them based on their posts on reddit or other forms of social media."
   ]
  },
  {
   "cell_type": "markdown",
   "id": "18c832d9",
   "metadata": {},
   "source": [
    "# Introduction"
   ]
  },
  {
   "cell_type": "markdown",
   "id": "586b97c6",
   "metadata": {},
   "source": [
    "According to Markets N Research, the market for CPAP machines (and its accessories) will increase from USD 5.2 billion in 2022 to an estimate of USD 7.8 billion in 2030. Outside the emergency use cases for COVID-19 and other respiratory diseases, the main consumer use is for sleep apnea and snorning.\n",
    "\n",
    "Using text data from the Subreddits, CPAP and Sleep, this project will aim to generate a model that will classify a social media post such that the consumer can be advertised to appropriately.\n",
    "\n",
    "For existing CPAP machine users, the ad will mainly focus on the new wellness app that BreathEasy has collaborated with other health tracking devices.\n",
    "\n",
    "For potential CPAP machine users, the ad will focus on the benefits of using a CPAP machine and a special trail offer.\n",
    "\n",
    "$^1$ https://finance.yahoo.com/news/global-continuous-positive-airway-pressure-153000669.html"
   ]
  },
  {
   "cell_type": "markdown",
   "id": "89da6ff1",
   "metadata": {},
   "source": [
    "# Importing libraries and data and further cleaning."
   ]
  },
  {
   "cell_type": "code",
   "execution_count": 69,
   "id": "68380a25",
   "metadata": {},
   "outputs": [],
   "source": [
    "import pandas as pd\n",
    "import random\n",
    "import seaborn as sns\n",
    "import matplotlib.pyplot as plt\n",
    "\n",
    "from sklearn.feature_extraction.text import CountVectorizer\n",
    "from sklearn.feature_extraction import text \n",
    "pd.options.display.max_colwidth = 400"
   ]
  },
  {
   "cell_type": "code",
   "execution_count": 104,
   "id": "f99c3b4f",
   "metadata": {},
   "outputs": [],
   "source": [
    "df = pd.read_pickle(\"datasets/df.pkl\")"
   ]
  },
  {
   "cell_type": "markdown",
   "id": "cee6faa0",
   "metadata": {},
   "source": [
    "# EDA: Reading random posts to explore data"
   ]
  },
  {
   "cell_type": "code",
   "execution_count": 22,
   "id": "bdd4d788",
   "metadata": {},
   "outputs": [
    {
     "name": "stdout",
     "output_type": "stream",
     "text": [
      "\n",
      "Received the Phillips Auto CPAP today after 18 months of waiting and calling in to request option 2 two weeks ago, they sent a machine with 6000+ hours and reset the blower hours, it also has the new white foam of the DS2... \n",
      "\n",
      "Humidifiers are such a freakin game changer! So I’ve been using CPAPs for a little over a year and still getting used to things. For the better part of this time I had not been using a humidifier because I found the extra maintenance to be a bit of a chore, and using it with without the humidifier worked well enough… or so I thought.Last week a caught a head cold and felt distinctly remember feeling my sinuses feeling very cold and dry throughout. The night before last night was especially uncomfortable and it took me forever to fall asleep.Last night while watching TV I got a pretty heavy nosebleed, which just doesn’t happen for me. I’m 35, and the only other time I remember having that much blood coming from my nose was a time I got hit in the face during a friendly scrap as a teen. So I caved and finally tried my CPAP with the humidifier, and holy shit, I can breath. I woke up feeling like my nose was my own again… if that makes sense.I don’t know if my discomfort was caused by the cold, the wintery dry air, lack of humidifier, or any combination of any of these. But I just wanted to share in case someone out there is having a similar experience.Hope it helps!\n",
      "\n",
      "oscar / resmed question Hi there, new to c-pap and trying to get set up on Oscar.  But my resmed Airsense 10 came without an SD card.  Can anyone help me figure out what kind of sd card I need and how to get it working with resmed, so I can lock it and get it in Oscar on my computer?\n",
      "\n",
      "Do masks degrade if stored for months? I use a phillips under the nose, zero problems so far. But I was thinking I should have a backup mask ready for the day my current one dies. But what if I buy the backup today and the other one dies several months from now? A year from now? Will the new one degrade over time and have a much shorter lifespan?\n",
      "\n",
      "Freaking out at night During my sleep study I had experience the same thing where I would freak out at night and start pulling the mask off to breathe. Yesterday was the first day I got my airsense 11 with the f20 mask. Initially I was fine and it took me a while to get comfortable. But I would wake up a couple times throughout the night because I just felt like I couldn’t breathe anymore. I have to stop the machine, take the mask off and start again. Is it normal for this to happen? Also when I lie down my nose gets congested for a while which makes breathing through the nose a bit hard\n"
     ]
    }
   ],
   "source": [
    "random.seed(42)\n",
    "for i in range(5):\n",
    "    print(f\"\\n{random.choice(df[df['subreddit']=='CPAP']['text'])}\")"
   ]
  },
  {
   "cell_type": "markdown",
   "id": "2fa38acd",
   "metadata": {},
   "source": [
    "From the small sample above, we can see that words that are common are\n",
    "Phillips, CPAP, mask, airsense\n",
    "\n",
    "Also note that Resmed and Phillips are brands of CPAP machines and Oscar is an open source computer programme used for analysing CPAP data."
   ]
  },
  {
   "cell_type": "code",
   "execution_count": 27,
   "id": "be4e57e4",
   "metadata": {
    "scrolled": false
   },
   "outputs": [
    {
     "name": "stdout",
     "output_type": "stream",
     "text": [
      "\n",
      "What medication have you started using to make you fall asleep faster? Melatonin is not working for me.\n",
      "\n",
      "How can I learn to thrive with poor quality sleep? Due to my toddler’s poor sleep, I get around 4-5 hours of broken sleep (broken into 3 sessions, with gaps of an hour or two) a night. I never sleep more than two consecutive hours. Before I had my child, I slept 8-9 hours a night. I have a demanding job and am really struggling to be at my best due to my lack of sleep. I’m also more prone to illness and stress. I’ve done everything I can to try to get my kid to sleep more, but have consistently failed.I’m looking for suggestions about how to cope with this and manage to live with very poor quality sleep. I try to exercise and eat well, but I’m still really struggling.Thanks!\n",
      "\n",
      "Recommendations for a stressful household? Hello. I am 19 and I live in a stressful house. It makes it near impossible to sleep. I usually am too anxious to sleep properly and I dunno what to do about it. I have tried several solutions (ear plugs, asmr, doing more physical activities) but I still am too stressed out or too anxious to sleep. I have tried sleeping medications and it works for a while but it's too expensive to keep it going (also after I get used to them, it's a bitch to get off of them). Keep in mind that I don't have much money, so any expensive dietary changes can't really happen. Any and all advice will help me significantly. Thanks for the read.\n",
      "\n",
      "Insomnia and better sleep after moving to another country I’ve had insomnia for near 5 years. I had no problems to sleep in my home country (Mexico), but since I moved to Sweden I had problems to sleep. I’ve tried sleep hygiene (not looking at the phone 1+ hours before going to bed and all the mambo jambo that actually causes more anxiety about the sleeping ritual), meditation and so on but nothing works, only hydroxyzine (but the day after I feel so foggy and like drugged that I use to take 1/4 of the pill to balance it) and just some times. Can it be that the weather or the changing seasons and amount of hours with sun affects me? I have an almost totally dark room when I sleep, though.Has someone’s experienced this? How did you make it work or how do you cop with it? Thanks\n",
      "\n",
      "Interesting high deep sleep percentage after a sleepless night Hi, on Saturday night I didn't go to sleep at all. Yesterday, on Sunday, I did, and something interesting happened.My smartwatch measures sleep time in light sleep and deep sleep. Besides the absolute accuracy, let's focus on relative accuracy: I usually get a deep sleep time that is approxitimely 24%. When I sleep normally, the range is very narrow and I get very similar values.I've always had the feel that when I don't sleep, I recover very easily, with a short period of time.When I could finally sleep, 48h after the last time I had gone to bed, I saw that my smartwatch calculated a percentage of 45% of deep sleep.Now, I don't care about the actual value, it might be wrong. But since I always get 24% and close values, this one was very interesting to me, given the situation.I didn't even sleep so much, considering that I had to recover: less than 7 hours.I find it really interesting, do you have any similar experiences to share?\n"
     ]
    }
   ],
   "source": [
    "random.seed(42)\n",
    "for i in range(5):\n",
    "    print(f\"\\n{random.choice(df[df['subreddit']=='sleep']['text'].reset_index(drop=True))}\")"
   ]
  },
  {
   "cell_type": "markdown",
   "id": "d8a1f7bd",
   "metadata": {},
   "source": [
    "From this small sample, we can see that there are people are sharing about medications and reasons for sleep trouble."
   ]
  },
  {
   "cell_type": "markdown",
   "id": "5f0dedd4",
   "metadata": {},
   "source": [
    "# EDA: Length of posts by words"
   ]
  },
  {
   "cell_type": "code",
   "execution_count": 29,
   "id": "76cedf12",
   "metadata": {},
   "outputs": [],
   "source": [
    "df['post_word_count'] = df['text'].map(lambda x:len(x.split()))"
   ]
  },
  {
   "cell_type": "code",
   "execution_count": 30,
   "id": "8ff14275",
   "metadata": {},
   "outputs": [
    {
     "data": {
      "image/png": "[encoded data removed]",
      "text/plain": [
       "<Figure size 1000x500 with 2 Axes>"
      ]
     },
     "metadata": {},
     "output_type": "display_data"
    }
   ],
   "source": [
    "fig, (ax1,ax2) = plt.subplots(nrows = 1, ncols=2, figsize=(10,5), sharex=True, dpi=100)\n",
    "\n",
    "sns.histplot(ax=ax1,data=df[df['subreddit']=='CPAP']['post_word_count'],kde=True)\n",
    "sns.histplot(ax=ax2, data=df[df['subreddit']=='sleep']['post_word_count'],kde=True)\n",
    "\n",
    "fig.suptitle('Word counts between subreddits')\n",
    "ax1.set_title('CPAP subreddit')\n",
    "ax2.set_title('sleep subreddit')\n",
    "\n",
    "plt.show()"
   ]
  },
  {
   "cell_type": "markdown",
   "id": "11970d1b",
   "metadata": {},
   "source": [
    "CPAP users seem to have shorter posts. Let's check out the longest posts."
   ]
  },
  {
   "cell_type": "code",
   "execution_count": 34,
   "id": "56f1d20d",
   "metadata": {
    "scrolled": true
   },
   "outputs": [
    {
     "data": {
      "text/html": [
       "<div>\n",
       "<style scoped>\n",
       "    .dataframe tbody tr th:only-of-type {\n",
       "        vertical-align: middle;\n",
       "    }\n",
       "\n",
       "    .dataframe tbody tr th {\n",
       "        vertical-align: top;\n",
       "    }\n",
       "\n",
       "    .dataframe thead th {\n",
       "        text-align: right;\n",
       "    }\n",
       "</style>\n",
       "<table border=\"1\" class=\"dataframe\">\n",
       "  <thead>\n",
       "    <tr style=\"text-align: right;\">\n",
       "      <th></th>\n",
       "      <th>subreddit</th>\n",
       "      <th>text</th>\n",
       "      <th>post_word_count</th>\n",
       "    </tr>\n",
       "  </thead>\n",
       "  <tbody>\n",
       "    <tr>\n",
       "      <th>1318</th>\n",
       "      <td>sleep</td>\n",
       "      <td>My Sleep Protocol - Wish I Knew How to Sleep E...</td>\n",
       "      <td>1791</td>\n",
       "    </tr>\n",
       "    <tr>\n",
       "      <th>127</th>\n",
       "      <td>CPAP</td>\n",
       "      <td>New CPAP user looking for advice Hi, I have mi...</td>\n",
       "      <td>1229</td>\n",
       "    </tr>\n",
       "    <tr>\n",
       "      <th>970</th>\n",
       "      <td>CPAP</td>\n",
       "      <td>Breath meditation and visualization helped me ...</td>\n",
       "      <td>1120</td>\n",
       "    </tr>\n",
       "    <tr>\n",
       "      <th>1826</th>\n",
       "      <td>sleep</td>\n",
       "      <td>Cant wake up like a normal person My marriage ...</td>\n",
       "      <td>783</td>\n",
       "    </tr>\n",
       "    <tr>\n",
       "      <th>1706</th>\n",
       "      <td>sleep</td>\n",
       "      <td>Feeling fatigued and drained? Focus on your sl...</td>\n",
       "      <td>729</td>\n",
       "    </tr>\n",
       "    <tr>\n",
       "      <th>...</th>\n",
       "      <td>...</td>\n",
       "      <td>...</td>\n",
       "      <td>...</td>\n",
       "    </tr>\n",
       "    <tr>\n",
       "      <th>272</th>\n",
       "      <td>CPAP</td>\n",
       "      <td>OSCAR Troubleshoot</td>\n",
       "      <td>2</td>\n",
       "    </tr>\n",
       "    <tr>\n",
       "      <th>487</th>\n",
       "      <td>CPAP</td>\n",
       "      <td>camping</td>\n",
       "      <td>1</td>\n",
       "    </tr>\n",
       "    <tr>\n",
       "      <th>824</th>\n",
       "      <td>CPAP</td>\n",
       "      <td>Cpa</td>\n",
       "      <td>1</td>\n",
       "    </tr>\n",
       "    <tr>\n",
       "      <th>1733</th>\n",
       "      <td>sleep</td>\n",
       "      <td>sleeping</td>\n",
       "      <td>1</td>\n",
       "    </tr>\n",
       "    <tr>\n",
       "      <th>1072</th>\n",
       "      <td>sleep</td>\n",
       "      <td>issues</td>\n",
       "      <td>1</td>\n",
       "    </tr>\n",
       "  </tbody>\n",
       "</table>\n",
       "<p>1918 rows × 3 columns</p>\n",
       "</div>"
      ],
      "text/plain": [
       "     subreddit                                               text  \\\n",
       "1318     sleep  My Sleep Protocol - Wish I Knew How to Sleep E...   \n",
       "127       CPAP  New CPAP user looking for advice Hi, I have mi...   \n",
       "970       CPAP  Breath meditation and visualization helped me ...   \n",
       "1826     sleep  Cant wake up like a normal person My marriage ...   \n",
       "1706     sleep  Feeling fatigued and drained? Focus on your sl...   \n",
       "...        ...                                                ...   \n",
       "272       CPAP                                OSCAR Troubleshoot    \n",
       "487       CPAP                                           camping    \n",
       "824       CPAP                                               Cpa    \n",
       "1733     sleep                                          sleeping    \n",
       "1072     sleep                                            issues    \n",
       "\n",
       "      post_word_count  \n",
       "1318             1791  \n",
       "127              1229  \n",
       "970              1120  \n",
       "1826              783  \n",
       "1706              729  \n",
       "...               ...  \n",
       "272                 2  \n",
       "487                 1  \n",
       "824                 1  \n",
       "1733                1  \n",
       "1072                1  \n",
       "\n",
       "[1918 rows x 3 columns]"
      ]
     },
     "execution_count": 34,
     "metadata": {},
     "output_type": "execute_result"
    }
   ],
   "source": [
    "df.sort_values(by='post_word_count', ascending=False)"
   ]
  },
  {
   "cell_type": "code",
   "execution_count": 35,
   "id": "0f053d3f",
   "metadata": {
    "scrolled": true
   },
   "outputs": [
    {
     "data": {
      "text/plain": [
       "'My Sleep Protocol - Wish I Knew How to Sleep Earlier! * **Natural Daily and Nightly Rhythm**   * Be in bed long enough to ensure 7.5 or more hours, meaning in bed, phone off, closing eyes at 10pm, and alarm going off at 5:30AM. Aim for 8.5 hours or more for teens.   * Sleep and wake at same time each day, including weekends. If you do stay up late on a weekend, force yourself to wake at the same time in the morning, try to stay awake for at least 1 hour, eat, then take a nap of no more than 1.5 hours. Your Monday morning will thank your Saturday wake time.   * For naps, attempt to nap earlier in the day, if possible, avoid naps past 3pm.   * Finish exercise ideally 2-3 hours before sleep, like finishing a workout at 8:30, when you sleep time is 10:30. This gives the body a chance to calm down.* **Bedding (NOT TALKED ABOUT ENOUGH, BUT CRITICAL)**   * Bed must be firm and flat, not sinking in the middle (like a beanbag, an airbed, waterbed, an old mattress, or something with way too thick of a memory foam mattress topper). Think of a bed imitating what the first human, Adam, slept on: soft and springy grass that uniformly compresses but still gives the firm support of the flat ground, while letting his backside breathe and not overheat. Think of how Native Americans and tribespeople sleep – on hay or matted up leaves, and usually with a fur coat or something to insulate themselves from the cold. Innerspring type mattresses are generally reliable to give good support, but memory foam beds should usually be avoided, due to them trapping heat (which destroys sleep quality) and potentially being too soft, leading to misalignment of the spine.   * Many don’t like firm beds, due to back pain (or any pain) issues. However, aim to ween yourself off super soft beds (with large foam toppers) to ensure proper neutral alignment of spine and breathability of your backside. This is done by proper gradual exercise to strengthen and regain full function of the back.   * For back pain, you must confront your pain and not run from it, since your sleep quality will suffer to the degree that you use a huge foam topper. The most comprehensive exercise system that gives you step by step (with a real person, who will scale the exercises to your level) coaching is found at atgonlinecoaching.com or follow kneesovertoesguy or lowbackability (also see lowbackability\\'s podcast \"Back Breakthroughs) on YouTube or Instagram. Both of these trainers regularly put out excellent exercises for the entire body, including the back.   * A good example of a bed that will have some give, without overheating your backside, is  “[The](https://www.originalmattress.com/classic-mattress-set) Classic Mattress Set” by Original Mattress Factory. It uses .75” of memory foam, which will add some softness, but is not thick enough to trap the heat of your back. Overheating while sleeping is a MASSIVE problem, and your body will actually not sleep if you are too hot, either from the mattress below or the covers above. Choose as thin of insulating foam material as possible, as your sleep quality is directly related to your body’s temperature. If you are traveling, I would recommend using a 15 dollar twin airbed from Walmart, over the standard super-foam hotel beds, due to the heat those beds will trap on your back.   * The “Regency Sapphire Hybrid Mattress Set” by OMF is an example of a bad mattress, due to the 2” thick additional memory foam topper, which is stacked on the already built in foam topping.    * Try to sleep without a pillow, for the sake of spinal alignment, since a pillow tilts the head forward and misaligns the top of the spine.   * If you need a pillow due to the mattress being too firm, a simple but effective method of a flat and soft “pillow” is a folded-up polyester blanket. It compresses evenly and doesn’t give that “sinking in” feeling of an excessively fluffy pillow.   * For the sake of neutral spine alignment, attempt to sleep on your back (and if all possible, don’t sleep on your stomach, since it forces the neck to be in a twisted position as you turn your head sideways).   * Use natural fibers for everything that touches your skin. Cotton, wool, down feathers, and silk are all natural fibers that let your skin breathe. Use these materials when choosing a comforter, sheets, or a blanket. Do NOT use polyester or rayon or anything that is essentially plastic, since it will trap heat in your skin and make you sweat.   * Avoid large memory foam toppers on mattresses or polyester mattress covers or anything plastic around the mattress, since these will trap heat under your back, and will cause a poor-quality sleep due to overheating and sweating.   * This is in an ideal world, and for parents of bed-wetters (I was one for longer than most kids!) leaving the mattress unprotected may not be an option. In the case where you must wrap your mattress in some kind of waterproof encasement, I recommend you create a “natural fiber” layer of cotton or wool comforter as a base, so that your back has a ½ - 1 inch layer of natural fibers to dissipate heat and sweat.* **Bedroom Tips**   * Keep the air temperature cool at night, between 65 – 70 degrees F.   * Keep the room as dark as possible, and drape a soft cotton clothing item over your eyes if room isn’t dark enough.   * Keep the room quiet, use earplugs if necessary, or use ocean sounds or other non-repeating, random nature noises, like crickets chirping or fire crackling. I don’t recommend songs or books or mantras, since your brain will engage with them and anticipate what is the next sound, rather than being preoccupied with the sound of nature and losing interest.   * Keep air circulating, this is generally covered by the gentle blowing of air from A/C, but if not, use a fan.*  **Clothing**    * Wear as little clothes as possible to bed, or if you do wear clothes, ensure they are natural fibers, not polyester or rayon or latex or anything plastic, and are loose and flowing.* **Eating/Diet**   * Attempt to eat meals and snacks at roughly the same time each day.   * Don’t go to bed hungry, this will be a stressor and hurt sleep quality. Eat some complex carbs and something sweet (like rice or potatoes with dinner with a piece of fruit for dessert) to raise serotonin and feelings of happiness before bed. If you feel a craving, it is generally a craving to drink water, eat a complex carb, eat a fat (like nuts or avocado), or eat something sweet like fruit. Don’t go for ice cream or candy or chocolate.   * Alcohol actually inhibits your deepest sleep possible if taken before or close to bedtime, even if it relaxes you initially (a person who passes out drunk goes to sleep quickly, but doesn’t wake refreshed, being an extreme example of the effects of alcohol on the sleep quality). Use sparingly and minimally.   * Avoid caffeine past 3 PM, since it takes several hours for caffeine’s effect to fully leave the system.   * There are a variety of sleep supplements, melatonin being the most well known. Generally these are nice to have, but not necessary, if the other steps are being followed. Research and attempt to buy quality sleep supplements, organic preferably. Attempt to avoid painkillers or manmade depressants, if possible.* **Bedtime Rituals**   * A hot shower or bath helps calm the mind and body.   * Reading a paper book (not your phone) in bed is calming and is a good method to shut down the mind.   * The Bible is my preferred choice, it helps calm the mind as well as encourage the soul.   * Journaling with pen and paper is another way to unload the mind if you’re feeling anxious or scatter-brained.   * Practice deep nasal breathing, attempting to slow your breaths and relax with each exhale.* **Determining Sleep Quality**   * The easiest and default way to measure sleep quality is to see how you feel in the morning, and throughout the day.   * I know I had good sleep when I wake excited about the day in the morning.   * I also know I will have good sleep if I am excited and daydreaming about tomorrow when I am preparing for bed.   * Keeping a small journal next to your bed and writing a quick sentence about your energy level that day can be useful to determine if your sleep habits are working   * For males, a good sign of being recovered and having a deep sleep is waking with an erection. Not trying to be crude, but it is a simple marker of good, deep sleep.   * A more scientific option is the Aura ring, which is markedly better than most of the general sleep tracking software out there. It is about \\\\~$200, and tracks pulse, temperature, and other physical markers to determine the quality of your sleep and your readiness for physical activity.    * For many, the biggest benefit of a sleep quality score is to bring empowerment through awareness that they can measurably improve their sleep!   * Ignorance of sleep hygiene and a fatalistic/apathetic attitude toward sleep (I never slept well even as a kid, I have too much pain, I only need 5 hours, I’ll sleep when I die, etc.) are the two largest hurdles to people making strides to increasing their vitality through sleep. * **End Goal**   * God did not originally make humans to be in pain, miserably tired and irritable, or foggy brained. Even with the curse of sin, God has given us incredible minds to discover many of the sleep and lifestyle habits that can give us a markedly better sleep and consequentially better life.   * The final goal of all of this is so that you can, if God wills, wake consistently each day rejuvenated, healed, strong, clear headed, and excited for the day that God has given you. PS – There is something better than sleep - namely the Gospel – Jesus loves you and died for your sins, so that all who believe and trust in Him will be saved for everlasting life – a life that has no insomnia, no need of sleep, and perfect health and energy.* **Feel Free to Contact me with any questions!** [**malachitisch@gmail.com**](mailto:malachitisch@gmail.com)**. I offer personal sleep coaching, at a rate of $5/email exchange. You can ask me anything, about diet, insomnia, sleeplessness, etc. I\\'ll try my best to offer you a personalized sleep solution.**'"
      ]
     },
     "execution_count": 35,
     "metadata": {},
     "output_type": "execute_result"
    }
   ],
   "source": [
    "df.loc[1318]['text']"
   ]
  },
  {
   "cell_type": "markdown",
   "id": "c86d9c54",
   "metadata": {},
   "source": [
    "This is an ad for sleep coaching."
   ]
  },
  {
   "cell_type": "code",
   "execution_count": 36,
   "id": "7d8eb798",
   "metadata": {
    "scrolled": true
   },
   "outputs": [
    {
     "data": {
      "text/plain": [
       "\"New CPAP user looking for advice Hi, I have mild sleep obstructive sleep apnea and central apnea. I'm having neurological problems for almost a year as well as insomnia. Had a sleep study and decided to try CPAP.I've been using it for a week. I've seen my obstructive events go down and my central events go up slightly.I'm using the ResMed AirSense 11 Auto and P10 nasal pillows. Using medium sized mask and pillows.I'm also using a chinstrap to prevent my mouth from opening.Of course, it's all very uncomfortable to me as a new user. I was expecting that.I don't mind the feeling of the positive air pressure as it does make breathing a little easier in more positions. It varies between 5-7 pressure.The 2 biggest issues for me so far are the hose and all the stuff on my head/face.1- The hose seems to be a standard high quality hose but it's so firm and heavy. It will kink on itself, makes lots of noise rubbing on stuff. I'm always wrestling with it in my sleep. I've tried running it behind me, to the side, using a hose dangler. Nothing seems to keep it from just being annoying as hell.The tubing from the mask, to the main hose, is much thinner, softer and more pliable. I wish the entire hose was like that. I understand it's so the hose won't collapse but I'm not concerned about that really. I'm looking into trying a new hose. I was looking at maybe the Resmed Slimline, and putting a thin fleece cover on it. Any experience with this compared to standard hose? I'm looking for the thinnest, softest, lightest, most flexible one I can find for my machine. Same with the cover. I've read reviews for covers that say they were heavy and bulky and exacerbated the issues I'm already having. I haven't noticed condensation but maybe it's because nasal pillows don't have the same problems as full masks. I've run 4-5 on humidity setting so far and haven't noticed it being better or worse. Maybe I can try 2-3 and see if it matters. Haven't noticed any dryness yet.So the nasal pillows do make my nostrils sore. I've started using lanolin gel. It doesn't bother me a huge amount. The little firmer plastic it attaches to will rub against my pillow or get pressed/tugged on by my hose. I know there isn't really a solution for this other than lighter, better hose management. I don't want to try to use a CPAP pillow. Just complaining here I guess.I may experiment with small sized pillows to see if that helps, or large. I figured I'd give each a week try and see if I notice any difference.Does anyone keep their CPAP turned away from them so the hose points towards the bed instead of having to make a sharp turn towards the bed? This seems to make sense to me. But then the screen is facing away from you. Right now I have the typical setup with CPAP on bed stand next to my head with screen towards me, that almost seems like the worst for hose management. Ideally it seems like you'd have the machine at the foot of the bed so the hose isn't having to make any bends towards you, and have the machine facing the bed. I know that could be interfered with kicking and rolling over potentially. Also it would be a pain to get up and turn it off at the foot of the bed.I was thinking of trying a night stand at the middle of my bed around my waist, having the machine face outward so the hose is pointed to me, try a different 6 foot hose, use a covering and see if that helped.2- All the stuff on my damn face/head. The little pillows I can kinda tolerate. But having the mask press into my skin sometimes or pull off from hose/pillow is annoying. The straps all over my head, the chin strap is super uncomfortable. My head is wrapped up like a mummy. It's always noticeable and pulling on my hair and skin a tiny bit. Not enough to cut me and leave red marks, just enough to notice. When I take it off in the morning it's such a relief. It's like taking off socks at the end of a long day.I have some mouth tape but that isn't my solution because my mouth would still fill up with air. I do just need my chin to be tucked up. It stinks that it seems to take so much material, and so much force to keep the damn thing mostly closed. It still hangs some, it's not a tight mouth jaw clench even with a good bit of pressure from the chin strap.&#x200B;Overall I'm a very light sleeper and I have some pretty serious neurological/neuromuscular issues. Long story shirt I twitch constantly 24/7 mostly calves but everywhere. I had parsonage turner syndrome 2 years ago. And I've had bad insomnia for at least a decade, but it became much much worse a year ago after COVID. Since then I fall asleep ok. But after a few hours I wake up with my arms trembling. Then I will fall asleep and go into REM immediately then wake up after 10-30 minutes and then repeat for the rest of the night. Sleep study says I get 0% N3 sleep and much more than average REM sleep. Doctors are stumped and recommended CPAP. Not sure what's related to what. No other clues like drugs or medications or alcohol etc. Healthy lifestyle leading up to this. So now with CPAP I sleep basically the same as before. I do notice I have less obstructive sleep apnea and can sleep in different positions. But I have the exact same pattern of sleep. Fall asleep okay, wake after a few hours, then the waking/REM/waking cycle for rest of the night. I also tend to sleep for 10+ hours if I'm left alone. I'm always tired and always feel jittery. I go to bed and wake around the same time everyday for work even on weekends and my dog will wake me up if I've been in bed too long. I'm a medical mystery I guess. But for now, I'm trying to give CPAP a good shot. My sleep reports in the app say I'm doing great scores of 100%. But I don't actually get good sleep, and the CPAP as a whole is very uncomfortable and frustrating.Does my plan for readjusting the machine location and position make sense? Should I try this other hose or anyone know of an ultra light, thin, flexible one I could try? Any tips for the chin strap? I got a highly rated one on Amazon. I make sure to read reviews and try to buy the best stuff I can.Anyone have an experience similar to mine?I guess I never felt like sleep apnea was my problem. It's showing that my sleep apnea has improved from mild to almost gone. But I don't feel like I'm sleeping any better at all, lots of discomfort and hassle with the machine, and no change in my neurological problems. I know it's only been a week. Anyone have strange issues where they noticed an improvement after an extended time like months later? Thank you\""
      ]
     },
     "execution_count": 36,
     "metadata": {},
     "output_type": "execute_result"
    }
   ],
   "source": [
    "df.loc[127]['text']"
   ]
  },
  {
   "cell_type": "markdown",
   "id": "7cee909c",
   "metadata": {},
   "source": [
    "This is a potential user of BreathEasy. They are looking for accessories for CPAP machines."
   ]
  },
  {
   "cell_type": "code",
   "execution_count": 38,
   "id": "18317e78",
   "metadata": {
    "scrolled": true
   },
   "outputs": [
    {
     "data": {
      "text/plain": [
       "'Breath meditation and visualization helped me get used to the mask. I wanted to share these techniques that helped me get good sleep with the cpap machine.  Sleeping well with the Cpap has hugely improved my daily life, and it was really hard for me to get used to the mask before I used these techniques. I know people out there struggle with the mask and I hate to think that there are all these people feeling strangled in their sleep because as soon as they drift off they instinctively rip the mask off because it’s uncomfortable.  Sleep apnea is a damned plague on the human race, I wouldn’t wish it on anyone.I should note that I’m not sure how to decide what cpap pressure setting is right for you.  I fiddled around with the machine until I felt I was getting firm backpressure and wasn’t waking up gassy.  But getting the pressure that’s best for you is very important.  Maybe seek out information elsewhere about how to do that. ON TO THE EXERCISES:I only have two good exercises, but they have really helped.   They involve breathing and meditation before falling asleep with the mask on.THE FIRST EXERCIESE is for quickly falling into deep sleep.  It’s unrelated to the mask or cpap, but since you’re using the cpap, you’ll want to inhale and exhale through your nostrils.  Try to get used to the backpressure, it feels weird at first, but to a certain extent that backpressure you feel when you exhale through your nostrils is the whole point of the machine -that’s whats going to keep your airway unobstructed, and your brain oxygenated.So when trying to fall asleep, repeat this process:-take one deep slow breath -next hold your breath for twice as long as you inhaled-finally exhale deeply about for as long as you held your breathThis is my dumbassed version of the ‘4-7-8’ method you can read about here.  https://amp.cnn.com/cnn/2022/09/16/health/4-7-8-breathing-technique-relaxing-wellness/index.html   It recommends four beats on the inhale, 7 beats on the breath hold, 8 beats for the exhale.  If you can do that do it.  But I never had the patience to count the breaths so I just do a good deep inhale, then a long breath hold followed a long exhale. Consider working with this general format, I really get great results with it.  It helps me get my brain relaxed and focused on falling asleep, instead of having my mind constantly running and keeping me awake.  THE SECOND EXERCISE is for the mask specifically.  TLDR:  I pretend I’m SCUBA diving as I drift off to sleep.I should say, I’ve never done any scuba diving so people with actual diving experience might find this visualization technique useless given their actual knowledge of how it feels to use a regulator, or be underwater.  I know you don’t breath through nostrils underwater, but you do have to wear a bunch of crap on your face.  So I personally found that in the beginning, while having trouble with the mask, it helped me to keep the mask on during sleep if I visualized myself as a diver, inhaling through a regulator underwater.  I learned to always do this as I began to fall asleep, in a meditative way.  I still do it now from time to time but I don’t find it absolutely necessary anymore, because this visualization helped me to get comfortable to the point where I don’t ever feel the urge to take the mask off at night. I think it is the simple fact that imagining myself underwater makes me perceive the mask as a tool essential to my wellbeing and survival, instead of as a burdensome pain in the ass that I’d love to rip off as soon as possible.  This coupled with the aqueous, embryonic feeling of floating, really puts me at peace with the mask.——————I’m writing this because the machine has absolutely changed my life for the better.  When I think of all the millions of people out there who are feeling strangled in their sleep it makes feel terrible.  I feel like I was unnecessarily tortured for years by apnea. I’m not a gearhead, but I understand that you can get more power and efficiency out of a combustion engine if you properly oxygenate the air supply to the engine.  I think the human brain is similar.  When my apnea was untreated I was just slower in every aspect.  I wasn’t getting enough oxygen at night and I was sluggish as hell as a result.  Consider this motivational anecdote.  It’s an anecdote but a powerful one I think:I have been playing chess with a buddy and studying and trying to learn the game for the past three years.  Before I started the  cpap machine i had been struggling at the intermediate level for the longest time.  My buddy always had the edge. After I started getting good sleep on the cpap machine my ability jumped overnight.  Like my engine was suddenly turbocharged.   I immediately started getting the better of my buddy, and just making better decisions and it was like I could suddenly see more moves into the future.  I was also beating the computer at a higher level.  For those who know chess went from like 1300ELo to 1450 in an instant; totally smashed through a wall. Now that my brain gets more oxygen in my sleep I’m more lucid, have more overall energy, have a better mood, the benefits are honestly, disturbing to me.  For years of my life I was unnecessarily disabled by apnea.I don’t want to pretend that everyone can get the benefit of a cpap machine as I did.  Everyone’s different, and I had severe apnea where I’d wake up nightly feeling like I had been choked to death or waterboarded, so I was really motivated to make the mask work, and that has certainly contributed to helping me adopt the mask.  But I mean damn, there is probably someone out there reading this who is in my old shoes, that could be you, and getting comfortable with the mask could be a total gamechanger for you.  Final TLDR:If you take away anything from this post, make it the following:The mask sucks initially but it’s possible to get used to it if you make the effort -bed time meditation really helped me to get used to the mask, and it could possibly help you to. Please explore as many breathing meditation and visualization techniques as you need, there are other ones out there.  Everyone is different.  Don’t give up if what worked for me doesn’t exactly work for you.  You can probably get comfortable with the mask if you put your mind to it.  Good luck and Godspeed 🖖'"
      ]
     },
     "execution_count": 38,
     "metadata": {},
     "output_type": "execute_result"
    }
   ],
   "source": [
    "df.loc[970]['text']"
   ]
  },
  {
   "cell_type": "markdown",
   "id": "896bdb6a",
   "metadata": {},
   "source": [
    "Good tips for BreathEasy to use in their promotional material."
   ]
  },
  {
   "cell_type": "code",
   "execution_count": 39,
   "id": "e27a8aee",
   "metadata": {
    "scrolled": true
   },
   "outputs": [
    {
     "data": {
      "text/plain": [
       "\"Cant wake up like a normal person My marriage is solid, but there of course are pain points... like all relationships.  One that I really want to work on is my sleeping issues.  I have always struggled with sleep.  I struggle to fall asleep, struggle to stay asleep and once I am finally asleep... I struggle to wake up.  I am working with my doctor and have been on trazadone for several months.. its awesome, its made a big difference.  But I still struggle to wake up.  I have several alarms set at 15 min intervals.  I work from home and have to be logged in at 5:30 am, so I try to get up at 4:30...  My husband hates the alarms.  Before he was disabled he worked out of town 10-14 days at a time with 4 days home.. so its never really been that huge of a deal.. but now he is home all the time, and has to deal with my barrage of alarms.  His solution... Just get up with the first alarm.. don't hit snooze or ignore.   I do have it away from me so I have to get out of bed.. but I don't have any memory of getting out of bed the first 3-4 times.  Most of the time I have super vivid dreams that I am up,.. Like literally dream most of my morning routine, and I can hear the alarms in my dream and when I finally realize I'm still asleep, I panic and dream that I'm standing over myself trying to get myself to wake up but can't.  To put it bluntly.. I can't tell the difference between dream and reality when I'm trying to wake up and it takes like 30-40 min to really wake up enough to know what's going on and then it takes 2 cups of strong coffee and 3-4 hours for me to feel someone human.When I do finally wake up I feel like I've been microwaved.. my body is hot and my abdomen feels like its on fire, I do have POTS so I just figure this is due to my lack of internal temperature control, I go to bed my oral temp is like 97.6 and wake up its like 99.9. My body feels stiff and swollen even though there is not visible edema, my joints all hurt especially my spine (we have ruled out RA and my autoimmune panel came back neg) .  I feel dizzy and nauseated, thirsty and my kidneys hurt. I have talked to my doctors... 38 yrs old and I've gotten all the advice.. sleep hygiene, having a solid routine, making sure I'm dedicating 8 hours to sleep, going to bed earlier, no caffeine after lunch, melatonin,  setting up a light to turn on in the morning, light therapy.... the whole gambit  I'm hoping to get a referral to a sleep study, but I was told to give the trazadone some time to work and I should see a change in my sleep patterns.  I have used sleep apps before to track... but they don't seem to work with me because they indicate that I'm going in and out deep sleep like every 15-30 min.  I haven't tracked it since starting trazadone.  I'm pretty sure the app is just trash anyway.. but when my husband used it, it showed him going in and out of deep sleep about every 90-120 min... I have RSL so i think it's just picking up my legs moving. I so desperately want to just be able to pop up out of bed with that first alarm and get moving... I want to be able to get up, do some yoga, have my coffee, plan my day.. instead of feeling like i'm struggling to crawl out of a whole and can barely function for several hours.  What can I do?  I hate to ask my husband to have to wake me up, but I'm thinking that I may need to ask him to spray me with cold water, or shake me awake with that first alarm... I have always struggled with sleep.. even as a child.  But seems like all the doctors I've talked to about this they all seem to brush it off as a behavioral issue... I'm not doing xyz right and that's the problem.  I dont' know what else to do. I want to feel like a normal person. Not sure if it makes a difference, but I have CPTSD, ADHD, POTS and am anemic. I am getting treatment for everything but ADHD.. I can't take stimulants due to POTS.. or at least they wont let me try ADHD meds because of my tachycardia.\""
      ]
     },
     "execution_count": 39,
     "metadata": {},
     "output_type": "execute_result"
    }
   ],
   "source": [
    "df.loc[1826]['text']"
   ]
  },
  {
   "cell_type": "markdown",
   "id": "775b95e0",
   "metadata": {},
   "source": [
    "This might be a potential client for BreathEasy. The word 'struggle' stood out. It might be a word to look for in the model."
   ]
  },
  {
   "cell_type": "code",
   "execution_count": 40,
   "id": "8fc86a1f",
   "metadata": {
    "scrolled": true
   },
   "outputs": [
    {
     "data": {
      "text/plain": [
       "'Feeling fatigued and drained? Focus on your sleep habits and remember that you can still be your best! For the past 5 years, I\\'ve been struggling with daily fatigue and drowsiness no matter what I change.***Stimulants, medication, diagnoses, vitamins, melatonin, sleep posture, food consumption, cognitive change, ambient temperature, white noise, stress reduction, visual stimuli, physical activity.***I have tried so much, yet I have never **\"solved\"** my *fatigue issue.*Doctors have told me that my vitals are all in healthy ranges, reasoning that there is nothing biologically wrong. Psychologists have told me that it could simply be depression. Yet any answer doesn\\'t help, because my issue isn\\'t going to be fixed.*Getting an answer for* ***what\\'s wrong with me*** *has always been my priority,* rather than focusing on **improving my sleep to the most**, rather than fixing the issue!&#x200B;Most people that have fatigue won\\'t ever have the issue fixed, because there are so many elements to fatigue!Sleep is influenced by so many different attributes! Even these ones!***Stimulants, medication, diagnoses, vitamins, melatonin, sleep posture, food consumption, cognitive change, ambient temperature, white noise, stress reduction, visual stimuli, physical activity.******I realized*** *that I can\\'t pinpoint what is going wrong, because there are so many different factors, and trying to* ***CHANGE EVERYTHING*** *will be worse for me rather than focusing on* ***how to live my best life*** *in my* ***current situation****.*I may **never** feel \"normal,\" and that is okay!**So what can we do to feel \"normal?\"** **I\\'ve realized** that having great sleep is one of the most important factors to having a great lifestyle! Most of fatigue comes from a psychological aspect, rather than actual physical symptoms. So, if we can sleep effectively, our body can perform typically, and we can just focus on **immense willpower** to make up for our deficient mind.Sleep is soo..soo...soooooo important for our body! Without sleep, we wouldn\\'t be able to do simple things like remember what we ate for dinner last night.Dreaming and sleeping are interconnected, such through the **consolidation of memories!** Our bodies receive so many stimuli throughout the day, such through visual, auditory, tactile, olfactory, and even perceptual information. Our brain has to find out **what is the most important** out of **ALL THE STIMULI** throughout the day and encode it all!Without **effective sleep**, our brain would most likely fail to remember so much! This is why sleep is so important for students! Information learned from studying and lectures ends up useless if we don\\'t sleep well! In recent studies, it has been shown that *comparing recollection of information from before and after sleeping* can show that sleep allows for a **20-30% boost of cognition**, such through remembering patterns and information more effectively.Our brain has evolved to be effective during sleep, such through the immense amount of sleep stages, each prioritizing different aspects of benefits. Did you know that most animals in the world sleep? If sleep wasn\\'t important, wouldn\\'t natural selection get rid of it?**So why am I talking about sleep so much?****Many people** think that because I\\'m fatigued that I also get terrible sleep. But that is simply not true. I have excellent sleep, and generally get around 8-10 hours a night! I excel in school and perform effectively in memory recollection and cognition! I have some energy to work out, and I\\'m still able to be myself. Yes, I am drained 24/7, but because I focus on sleep, my life is minimally affected by my cognitive issue. I **realized that I suffer** from chronic fatigue, and there is **possibly no way to fix that issue,** but I also realized that I can still optimize my life and not let my energy deficiency impact my life.Don\\'t make the same mistake I did where I thought that there is **one solution** for a problem so complicated. Instead try to find resources and medication that can assist **the issue**, rather than focus on solving it. Don\\'t fall to drugs or stimulants to fix issues, because developing addictions in order to relieve fatigue won\\'t help, it\\'s only a short term \"fix.\"Instead try to focus on the best sleep you can have, because you can make sure your body **is healed and efficient**, and you can focus on your cognition after.Fatigue can make your life hard but remember that the setback can also be optimized so you can still perform well. Don\\'t give up on trying to perform your best!'"
      ]
     },
     "execution_count": 40,
     "metadata": {},
     "output_type": "execute_result"
    }
   ],
   "source": [
    "df.loc[1706]['text']"
   ]
  },
  {
   "cell_type": "markdown",
   "id": "6bec5a70",
   "metadata": {},
   "source": [
    "There seems to be quite a bit of cleaning needed for this one post."
   ]
  },
  {
   "cell_type": "code",
   "execution_count": 50,
   "id": "f2627b2c",
   "metadata": {
    "scrolled": true
   },
   "outputs": [
    {
     "data": {
      "text/plain": [
       "'Feeling fatigued and drained? Focus on your sleep habits and remember that you can still be your best! For the past 5 years, I\\'ve been struggling with daily fatigue and drowsiness no matter what I change.***Stimulants, medication, diagnoses, vitamins, melatonin, sleep posture, food consumption, cognitive change, ambient temperature, white noise, stress reduction, visual stimuli, physical activity.***I have tried so much, yet I have never **\"solved\"** my *fatigue issue.*Doctors have told me that my vitals are all in healthy ranges, reasoning that there is nothing biologically wrong. Psychologists have told me that it could simply be depression. Yet any answer doesn\\'t help, because my issue isn\\'t going to be fixed.*Getting an answer for* ***what\\'s wrong with me*** *has always been my priority,* rather than focusing on **improving my sleep to the most**, rather than fixing the issue!&#x200B;Most people that have fatigue won\\'t ever have the issue fixed, because there are so many elements to fatigue!Sleep is influenced by so many different attributes! Even these ones!***Stimulants, medication, diagnoses, vitamins, melatonin, sleep posture, food consumption, cognitive change, ambient temperature, white noise, stress reduction, visual stimuli, physical activity.******I realized*** *that I can\\'t pinpoint what is going wrong, because there are so many different factors, and trying to* ***CHANGE EVERYTHING*** *will be worse for me rather than focusing on* ***how to live my best life*** *in my* ***current situation****.*I may **never** feel \"normal,\" and that is okay!**So what can we do to feel \"normal?\"** **I\\'ve realized** that having great sleep is one of the most important factors to having a great lifestyle! Most of fatigue comes from a psychological aspect, rather than actual physical symptoms. So, if we can sleep effectively, our body can perform typically, and we can just focus on **immense willpower** to make up for our deficient mind.Sleep is soo..soo...soooooo important for our body! Without sleep, we wouldn\\'t be able to do simple things like remember what we ate for dinner last night.Dreaming and sleeping are interconnected, such through the **consolidation of memories!** Our bodies receive so many stimuli throughout the day, such through visual, auditory, tactile, olfactory, and even perceptual information. Our brain has to find out **what is the most important** out of **ALL THE STIMULI** throughout the day and encode it all!Without **effective sleep**, our brain would most likely fail to remember so much! This is why sleep is so important for students! Information learned from studying and lectures ends up useless if we don\\'t sleep well! In recent studies, it has been shown that *comparing recollection of information from before and after sleeping* can show that sleep allows for a **20-30% boost of cognition**, such through remembering patterns and information more effectively.Our brain has evolved to be effective during sleep, such through the immense amount of sleep stages, each prioritizing different aspects of benefits. Did you know that most animals in the world sleep? If sleep wasn\\'t important, wouldn\\'t natural selection get rid of it?**So why am I talking about sleep so much?****Many people** think that because I\\'m fatigued that I also get terrible sleep. But that is simply not true. I have excellent sleep, and generally get around 8-10 hours a night! I excel in school and perform effectively in memory recollection and cognition! I have some energy to work out, and I\\'m still able to be myself. Yes, I am drained 24/7, but because I focus on sleep, my life is minimally affected by my cognitive issue. I **realized that I suffer** from chronic fatigue, and there is **possibly no way to fix that issue,** but I also realized that I can still optimize my life and not let my energy deficiency impact my life.Don\\'t make the same mistake I did where I thought that there is **one solution** for a problem so complicated. Instead try to find resources and medication that can assist **the issue**, rather than focus on solving it. Don\\'t fall to drugs or stimulants to fix issues, because developing addictions in order to relieve fatigue won\\'t help, it\\'s only a short term \"fix.\"Instead try to focus on the best sleep you can have, because you can make sure your body **is healed and efficient**, and you can focus on your cognition after.Fatigue can make your life hard but remember that the setback can also be optimized so you can still perform well. Don\\'t give up on trying to perform your best!'"
      ]
     },
     "execution_count": 50,
     "metadata": {},
     "output_type": "execute_result"
    }
   ],
   "source": [
    "df.loc[1706]['text']"
   ]
  },
  {
   "cell_type": "markdown",
   "id": "8bccb1b6",
   "metadata": {},
   "source": [
    "The asterisks are used bold words in Reddit. "
   ]
  },
  {
   "cell_type": "markdown",
   "id": "ca9b15a8",
   "metadata": {},
   "source": [
    "# EDA: Word counts"
   ]
  },
  {
   "cell_type": "markdown",
   "id": "cbc9a82d",
   "metadata": {},
   "source": [
    "We will vectorize the words for each subrredit, removing stop words."
   ]
  },
  {
   "cell_type": "code",
   "execution_count": 93,
   "id": "f43c6ee3",
   "metadata": {},
   "outputs": [],
   "source": [
    "cv_cpap = CountVectorizer(stop_words=text.ENGLISH_STOP_WORDS.union(['just','like','ve','got']), min_df=1)\n",
    "\n",
    "cv_cpap.fit(df[df['subreddit']=='CPAP']['text'])\n",
    "\n",
    "text_cv_cpap = cv_cpap.transform(df[df['subreddit']=='CPAP']['text'])\n",
    "text_df_cpap = pd.DataFrame(text_cv_cpap.todense(),\n",
    "                           columns = cv_cpap.get_feature_names_out())"
   ]
  },
  {
   "cell_type": "code",
   "execution_count": 82,
   "id": "afe25c7d",
   "metadata": {},
   "outputs": [
    {
     "data": {
      "text/plain": [
       "mask        878\n",
       "cpap        856\n",
       "sleep       656\n",
       "machine     544\n",
       "night       476\n",
       "using       342\n",
       "use         294\n",
       "resmed      286\n",
       "new         257\n",
       "pressure    253\n",
       "10          238\n",
       "air         238\n",
       "nasal       223\n",
       "airsense    218\n",
       "nose        217\n",
       "dtype: int64"
      ]
     },
     "execution_count": 82,
     "metadata": {},
     "output_type": "execute_result"
    }
   ],
   "source": [
    "text_df_cpap.sum().sort_values(ascending=False).head(15)"
   ]
  },
  {
   "cell_type": "markdown",
   "id": "034ef740",
   "metadata": {},
   "source": [
    "Masks and CPAP seem to be a good indicator of CPAP users as expected."
   ]
  },
  {
   "cell_type": "code",
   "execution_count": 98,
   "id": "c2f01753",
   "metadata": {},
   "outputs": [],
   "source": [
    "cv_sleep = CountVectorizer(stop_words=text.ENGLISH_STOP_WORDS.union(['ve','like','just','don','https']), min_df=1)\n",
    "\n",
    "cv_sleep.fit(df[df['subreddit']=='sleep']['text'])\n",
    "\n",
    "text_cv_sleep = cv_sleep.transform(df[df['subreddit']=='sleep']['text'])\n",
    "text_df_sleep = pd.DataFrame(text_cv_sleep.todense(),\n",
    "                           columns = cv_sleep.get_feature_names_out())"
   ]
  },
  {
   "cell_type": "code",
   "execution_count": 99,
   "id": "50fa4b4f",
   "metadata": {},
   "outputs": [
    {
     "data": {
      "text/plain": [
       "sleep       2574\n",
       "night        671\n",
       "wake         571\n",
       "hours        532\n",
       "time         493\n",
       "asleep       458\n",
       "bed          414\n",
       "feel         386\n",
       "day          372\n",
       "sleeping     370\n",
       "fall         283\n",
       "know         271\n",
       "tired        246\n",
       "help         242\n",
       "waking       228\n",
       "dtype: int64"
      ]
     },
     "execution_count": 99,
     "metadata": {},
     "output_type": "execute_result"
    }
   ],
   "source": [
    "text_df_sleep.sum().sort_values(ascending=False).head(15)"
   ]
  },
  {
   "cell_type": "markdown",
   "id": "109ce254",
   "metadata": {},
   "source": [
    "We can see that sleep stands out here as oppsed to the CPAP subreddit."
   ]
  },
  {
   "cell_type": "markdown",
   "id": "dd73c5f6",
   "metadata": {},
   "source": [
    "# Checking Bigrams"
   ]
  },
  {
   "cell_type": "code",
   "execution_count": 100,
   "id": "47eac31b",
   "metadata": {},
   "outputs": [],
   "source": [
    "cv_cpap = CountVectorizer(ngram_range=(2,2), stop_words=text.ENGLISH_STOP_WORDS.union(['just','like','ve','got']), min_df=1)\n",
    "\n",
    "cv_cpap.fit(df[df['subreddit']=='CPAP']['text'])\n",
    "\n",
    "text_cv_cpap = cv_cpap.transform(df[df['subreddit']=='CPAP']['text'])\n",
    "text_df_cpap = pd.DataFrame(text_cv_cpap.todense(),\n",
    "                           columns = cv_cpap.get_feature_names_out())"
   ]
  },
  {
   "cell_type": "code",
   "execution_count": 101,
   "id": "d92b4b3e",
   "metadata": {},
   "outputs": [
    {
     "data": {
      "text/plain": [
       "sleep apnea        113\n",
       "airsense 11         97\n",
       "cpap machine        96\n",
       "airsense 10         93\n",
       "using cpap          90\n",
       "face mask           72\n",
       "sleep study         72\n",
       "resmed airsense     72\n",
       "nasal mask          60\n",
       "new cpap            59\n",
       "fall asleep         56\n",
       "nasal pillow        49\n",
       "nasal pillows       39\n",
       "https www           34\n",
       "don know            32\n",
       "dtype: int64"
      ]
     },
     "execution_count": 101,
     "metadata": {},
     "output_type": "execute_result"
    }
   ],
   "source": [
    "text_df_cpap.sum().sort_values(ascending=False).head(15)"
   ]
  },
  {
   "cell_type": "markdown",
   "id": "525866be",
   "metadata": {},
   "source": [
    "Sleep apnea appears to be a good bigram to check if the user is a cpap user."
   ]
  },
  {
   "cell_type": "code",
   "execution_count": 102,
   "id": "6b2399f9",
   "metadata": {},
   "outputs": [],
   "source": [
    "cv_sleep = CountVectorizer(ngram_range=(2,2),stop_words=text.ENGLISH_STOP_WORDS.union(['ve','like','just','don','https']), min_df=1)\n",
    "\n",
    "cv_sleep.fit(df[df['subreddit']=='sleep']['text'])\n",
    "\n",
    "text_cv_sleep = cv_sleep.transform(df[df['subreddit']=='sleep']['text'])\n",
    "text_df_sleep = pd.DataFrame(text_cv_sleep.todense(),\n",
    "                           columns = cv_sleep.get_feature_names_out())"
   ]
  },
  {
   "cell_type": "code",
   "execution_count": 103,
   "id": "68e0ffab",
   "metadata": {},
   "outputs": [
    {
     "data": {
      "text/plain": [
       "fall asleep        256\n",
       "hours sleep        124\n",
       "sleep schedule     119\n",
       "falling asleep      95\n",
       "sleep hours         70\n",
       "sleep night         66\n",
       "deep sleep          53\n",
       "sleep quality       53\n",
       "sleep sleep         43\n",
       "able sleep          41\n",
       "night sleep         39\n",
       "going bed           39\n",
       "spotify com         38\n",
       "sleep paralysis     38\n",
       "open spotify        38\n",
       "dtype: int64"
      ]
     },
     "execution_count": 103,
     "metadata": {},
     "output_type": "execute_result"
    }
   ],
   "source": [
    "text_df_sleep.sum().sort_values(ascending=False).head(15)"
   ]
  },
  {
   "cell_type": "markdown",
   "id": "9323f8b4",
   "metadata": {},
   "source": [
    "We can see that 'fall asleep' appears both in r/sleep and r/CPAP.\n",
    "\n",
    "Otherwise, using bigrams would also be a good differentiator."
   ]
  },
  {
   "cell_type": "markdown",
   "id": "485d8712",
   "metadata": {},
   "source": [
    "We will move on to then next notebook for pre-processing and modelling"
   ]
  }
 ],
 "metadata": {
  "kernelspec": {
   "display_name": "Python 3 (ipykernel)",
   "language": "python",
   "name": "python3"
  },
  "language_info": {
   "codemirror_mode": {
    "name": "ipython",
    "version": 3
   },
   "file_extension": ".py",
   "mimetype": "text/x-python",
   "name": "python",
   "nbconvert_exporter": "python",
   "pygments_lexer": "ipython3",
   "version": "3.9.13"
  }
 },
 "nbformat": 4,
 "nbformat_minor": 5
}
