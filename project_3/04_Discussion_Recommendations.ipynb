{
 "cells": [
  {
   "cell_type": "markdown",
   "id": "7bbce809",
   "metadata": {},
   "source": [
    "# Discussion"
   ]
  },
  {
   "cell_type": "markdown",
   "id": "869f546a",
   "metadata": {},
   "source": [
    "We initially began our project wanting to classify CPAP users and non-CPAP users (but still sleep concerned) using the posts of subreddits r/CPAP and r/sleep.\n",
    "\n",
    "We have come up with several models that we can use in production and several other insights that we will discuss."
   ]
  },
  {
   "cell_type": "markdown",
   "id": "574bdf20",
   "metadata": {},
   "source": [
    "## Model Results"
   ]
  },
  {
   "cell_type": "markdown",
   "id": "ae5b911b",
   "metadata": {},
   "source": [
    "We used accuracy as our only metric because\n",
    "\n",
    "- We want our models to be accurate\n",
    "- False positive and false negative cases do not cause harm to the consumer."
   ]
  },
  {
   "cell_type": "markdown",
   "id": "4463069a",
   "metadata": {},
   "source": [
    "| Model/Accuarcy | Null  | NB  (TF-IDF) | LG (TF-IDF) | KNN (TF-IDF) | DT (CVec) | AdaBoost (CVEC) |\n",
    "|----------------|-------|--------------|-------------|--------------|-----------|-----------------|\n",
    "| Train Score    | 0.514 | 0.972        | 0.999       | 0.999        | 0.914     | 0.997           |\n",
    "| Test Score     | 0.514 | 0.940        | 0.940       | 0.808        | 0.875     | 0.913          |"
   ]
  },
  {
   "cell_type": "markdown",
   "id": "155cd7aa",
   "metadata": {},
   "source": [
    "We would recommend using the Logistic Regression model using the TF-IDF vectorizer because of how it fares compared to the rest.\n",
    "\n",
    "There is a bit of a overfitting but in terms of accuracy, it is our best model."
   ]
  },
  {
   "cell_type": "markdown",
   "id": "d8f3c59d",
   "metadata": {},
   "source": [
    "# Recommendations"
   ]
  },
  {
   "cell_type": "markdown",
   "id": "798ebdb6",
   "metadata": {},
   "source": [
    "The insights that we have gained from our exploratory data analysis will be useful for product development and advertising."
   ]
  },
  {
   "cell_type": "markdown",
   "id": "88245968",
   "metadata": {},
   "source": [
    "1. Non-CPAP users discuss about using melatonin and canabis products.\n",
    "\n",
    "Product development: Include a diffuser into the CPAP machine.\n",
    "\n",
    "2. Non-CPAP users are time conscious.\n",
    "\n",
    "Advertising: Include the element of time when advertising to non-CPAP users.\n",
    "\n",
    "3. Non-CPAP users listen to music or white-noise to help get to sleep.\n",
    "\n",
    "Product development: Include a speaker\n",
    "\n",
    "4. CPAP users are about 4 times more aware of sleep apnea compared non-CPAP users.\n",
    "\n",
    "Advertising: Have more engagements with the community about sleep apnea.\n",
    "\n",
    "5. CPAP user use OSCAR which is an open source CPAP data analysis tool.\n",
    "\n",
    "Product development: Find out the differences between our current app and OSCAR. Add features that are still unavaiable in our app."
   ]
  }
 ],
 "metadata": {
  "kernelspec": {
   "display_name": "Python 3 (ipykernel)",
   "language": "python",
   "name": "python3"
  },
  "language_info": {
   "codemirror_mode": {
    "name": "ipython",
    "version": 3
   },
   "file_extension": ".py",
   "mimetype": "text/x-python",
   "name": "python",
   "nbconvert_exporter": "python",
   "pygments_lexer": "ipython3",
   "version": "3.9.13"
  }
 },
 "nbformat": 4,
 "nbformat_minor": 5
}
